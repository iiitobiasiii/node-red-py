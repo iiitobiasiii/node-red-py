{
 "cells": [
  {
   "cell_type": "code",
   "execution_count": null,
   "id": "9d6c5ab0-5582-4db2-b242-7843f69a730d",
   "metadata": {},
   "outputs": [],
   "source": [
    "%load_ext autoreload\n",
    "%autoreload 2"
   ]
  },
  {
   "cell_type": "code",
   "execution_count": null,
   "id": "282bfa1a-e1d1-4e83-af94-e9fb6f969374",
   "metadata": {},
   "outputs": [],
   "source": [
    "import requests\n",
    "import os\n",
    "import random\n",
    "from warnings import warn\n",
    "\n",
    "from noderedpy.api import NodeRedApi"
   ]
  },
  {
   "cell_type": "markdown",
   "id": "309aaea0-c430-46e5-b2fe-7713a90219d6",
   "metadata": {},
   "source": [
    "GET MQTT BROKER and Inlfux DB"
   ]
  },
  {
   "cell_type": "code",
   "execution_count": null,
   "id": "31a0dd4f-23e4-4819-886b-533fcb950a8b",
   "metadata": {},
   "outputs": [],
   "source": [
    "BASE_URL = \"http://127.0.0.1:1880\""
   ]
  },
  {
   "cell_type": "code",
   "execution_count": null,
   "id": "fc1ad491-5768-4b8d-bf72-cffc966ca27c",
   "metadata": {},
   "outputs": [],
   "source": [
    "api = NodeRedApi(BASE_URL)"
   ]
  },
  {
   "cell_type": "code",
   "execution_count": null,
   "id": "3656e7b8-b76e-48e3-a89d-fd7dbcac52ba",
   "metadata": {},
   "outputs": [],
   "source": [
    "api.get_mqtt_brokers()\n",
    "api.get_influxdbs()"
   ]
  },
  {
   "cell_type": "code",
   "execution_count": null,
   "id": "57617f36-56e2-4565-9d10-e4ee02d130e7",
   "metadata": {},
   "outputs": [],
   "source": [
    "mqtt_id = api.mqtt_brokers[0]['id']"
   ]
  },
  {
   "cell_type": "code",
   "execution_count": null,
   "id": "0680f23f-e318-4163-adf3-f728a54d719f",
   "metadata": {},
   "outputs": [],
   "source": [
    "influx_id = api.influxdbs[0]['id']"
   ]
  },
  {
   "cell_type": "markdown",
   "id": "7156c1f6-0d63-493b-8609-7fb54533d8be",
   "metadata": {},
   "source": [
    "CREATE A COPY OF WG1NSBRK"
   ]
  },
  {
   "cell_type": "code",
   "execution_count": null,
   "id": "3b65dbf7-1284-4efe-bb74-16e392ea4651",
   "metadata": {},
   "outputs": [],
   "source": [
    "from noderedpy.nodes import *"
   ]
  },
  {
   "cell_type": "code",
   "execution_count": null,
   "id": "483678c8-55fe-45ac-85af-e562286fe240",
   "metadata": {
    "tags": []
   },
   "outputs": [],
   "source": [
    "# new flow / tab\n",
    "f = Flow(\"wg1sbrk_copy2x\")\n",
    "\n",
    "project_name = \"wg1nsbrk\"\n",
    "\n",
    "\n",
    "###############################\n",
    "# steckdosen line\n",
    "###############################\n",
    "measurement = \"TAS_C80F2A\"\n",
    "\n",
    "steckdose = MqttinNode(mqttbroker_id=mqtt_id, name=\"SteckDose\", flow=f, topic=f\"{project_name}/{measurement}/SENSOR/#\", qos=0)\n",
    "steckdose.x = 150\n",
    "steckdose.y = 150\n",
    "\n",
    "# create change node\n",
    "steckdose_change = ChangeNode(name=f\"{measurement}\", flow=f, to_payload=\"ENERGY\")\n",
    "\n",
    "# connect MQTT and change node\n",
    "connect_nodes(steckdose, steckdose_change, pos=\"right\")\n",
    "\n",
    "# create debug node\n",
    "debug_steckdose_change = DebugNode(name=\"debug 31\", flow=f)\n",
    "\n",
    "# connect change and debug \n",
    "connect_nodes(steckdose_change, debug_steckdose_change, pos=\"bottom-right\")\n",
    "\n",
    "# Influx Output Node\n",
    "steckdose_influx = InfluxdbOutNode(influxnode=influx,\n",
    "                                   name=f\"{project_name}/{measurement}\",\n",
    "                                   flow=f,\n",
    "                                   influx_bucket=project_name,\n",
    "                                   influx_measurement=measurement)\n",
    "\n",
    "# connect change and influx\n",
    "connect_nodes(steckdose_change, steckdose_influx, pos=\"top-right\")\n",
    "\n",
    "###############################\n",
    "# Komfortmeter line\n",
    "###############################\n",
    "mqtt_broker_tls = MqttbrokerNode(name=\"bem.eco\",\n",
    "                             broker=\"bem.eco\",\n",
    "                             port=\"44220\",\n",
    "                            usetls=True)\n",
    "tunnel = MqttinNode(broker=mqtt_broker_tls, name=\"TUNNEL\", flow=f, topic=\"wg1nsbrk/#\", qos=2)\n",
    "tunnel.x = 150\n",
    "tunnel.y = 500\n",
    "\n",
    "debug_node = DebugNode(name=\"debug 32\", flow=f)\n",
    "\n",
    "for measurement, pos in zip([\"ATCcff9430\", \"ATCaa91c5\", \"ATC700cde\"],[\"top-right\", \"right\", \"bottom-right\"]):\n",
    "    tunnel_change = ChangeNode(name=measurement, flow=f, to_payload=measurement)\n",
    "    connect_nodes(tunnel, tunnel_change, pos=pos)\n",
    "    \n",
    "    switch_node = SwitchNode(name=f'switch {measurement}', flow=f)\n",
    "    connect_nodes(tunnel_change, switch_node, node2_output=1, pos=\"right\")\n",
    "    connect_nodes(switch_node, debug_node, node1_output=1, pos=\"bottom-right\")\n",
    "    \n",
    "    influx_nodes = InfluxdbOutNode(influxnode=influx,name=f\"{project_name}/{measurement}\", flow=f, influx_bucket=project_name, influx_measurement=measurement)\n",
    "    connect_nodes(switch_node, influx_nodes, node1_output=1, pos=\"top-right\")\n",
    "\n"
   ]
  }
 ],
 "metadata": {
  "kernelspec": {
   "display_name": "backend",
   "language": "python",
   "name": "backend"
  },
  "language_info": {
   "codemirror_mode": {
    "name": "ipython",
    "version": 3
   },
   "file_extension": ".py",
   "mimetype": "text/x-python",
   "name": "python",
   "nbconvert_exporter": "python",
   "pygments_lexer": "ipython3",
   "version": "3.10.8"
  }
 },
 "nbformat": 4,
 "nbformat_minor": 5
}
